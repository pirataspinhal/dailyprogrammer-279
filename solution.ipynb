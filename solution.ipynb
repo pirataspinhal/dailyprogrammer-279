{
 "cells": [
  {
   "cell_type": "code",
   "execution_count": 1,
   "metadata": {
    "collapsed": true
   },
   "outputs": [],
   "source": [
    "import Data.List\n",
    "-- To use functions found here: https://hackage.haskell.org/package/base-4.9.0.0/docs/Data-List.html"
   ]
  },
  {
   "cell_type": "code",
   "execution_count": 2,
   "metadata": {
    "collapsed": true
   },
   "outputs": [],
   "source": [
    "input = \"In the beginning God created the heavens and the earth. Now the earth was formless and empty, darkness was over the surface of the deep, and the Spirit of God was hovering over the waters.\""
   ]
  },
  {
   "cell_type": "code",
   "execution_count": 3,
   "metadata": {
    "collapsed": false
   },
   "outputs": [
    {
     "data": {
      "text/plain": [
       "(\"\",\" snevaeh eht detaerc doG gninnigeb eht nI\")"
      ]
     },
     "metadata": {},
     "output_type": "display_data"
    }
   ],
   "source": [
    "span(/= ' ')(reverse (take 41 input))"
   ]
  },
  {
   "cell_type": "code",
   "execution_count": 4,
   "metadata": {
    "collapsed": true
   },
   "outputs": [],
   "source": [
    "-- Auxiliar function to reflow\n",
    "-- Reverse the string received and split at the first whitespace\n",
    "-- It's the same as splitting at the last whitespace of the normal string\n",
    "-- Then remove the last ' ' and change it to '\\n'\n",
    "\n",
    "reflow' :: [Char] -> ([Char], [Char])\n",
    "reflow' [] = ([], [])\n",
    "reflow' msg\n",
    "        | length msg <= 40 = (msg, [])\n",
    "        -- init returns all elements of a list, except for the last\n",
    "        -- http://s3.amazonaws.com/lyah/listmonster.png\n",
    "        | otherwise = (init(reverse first_half) ++ \"\\n\", reverse second_half)\n",
    "          where (second_half, first_half) = span(/= ' ')(reverse msg)"
   ]
  },
  {
   "cell_type": "code",
   "execution_count": 5,
   "metadata": {
    "collapsed": false
   },
   "outputs": [
    {
     "data": {
      "text/plain": [
       "(\"In the beginning God created the heavens\\n\",\"\")"
      ]
     },
     "metadata": {},
     "output_type": "display_data"
    }
   ],
   "source": [
    "reflow' (take 41 input)"
   ]
  },
  {
   "cell_type": "code",
   "execution_count": 6,
   "metadata": {
    "collapsed": false
   },
   "outputs": [
    {
     "data": {
      "text/plain": [
       "(\"Sample text that I typed because I\\n\",\"wanted\")"
      ]
     },
     "metadata": {},
     "output_type": "display_data"
    }
   ],
   "source": [
    "reflow' (take 41 \"Sample text that I typed because I wanted, ok? Don't judge me.\")"
   ]
  },
  {
   "cell_type": "code",
   "execution_count": 7,
   "metadata": {
    "collapsed": true
   },
   "outputs": [],
   "source": [
    "reflow :: [Char] -> [[Char]]\n",
    "reflow [] = []\n",
    "reflow msg =\n",
    "        let (first_half, second_half) = reflow'(take 41 msg)\n",
    "        in [first_half] ++ reflow(second_half ++ (drop 41 msg))"
   ]
  },
  {
   "cell_type": "code",
   "execution_count": 8,
   "metadata": {
    "collapsed": false
   },
   "outputs": [
    {
     "data": {
      "text/plain": [
       "[\"In the beginning God created the heavens\\n\",\"and the earth. Now the earth was\\n\",\"formless and empty, darkness was over\\n\",\"the surface of the deep, and the Spirit\\n\",\"of God was hovering over the waters.\"]"
      ]
     },
     "metadata": {},
     "output_type": "display_data"
    }
   ],
   "source": [
    "reflow input"
   ]
  },
  {
   "cell_type": "code",
   "execution_count": 10,
   "metadata": {
    "collapsed": false
   },
   "outputs": [
    {
     "data": {
      "text/plain": [
       "[\"Sample text that I typed because I\\n\",\"wanted, ok? Don't judge me. Ok now you\\n\",\"can judge, because this text is too\\n\",\"small to be a good sample.\"]"
      ]
     },
     "metadata": {},
     "output_type": "display_data"
    }
   ],
   "source": [
    "reflow \"Sample text that I typed because I wanted, ok? Don't judge me. Ok now you can judge, because this text is too small to be a good sample.\""
   ]
  },
  {
   "cell_type": "code",
   "execution_count": 11,
   "metadata": {
    "collapsed": true
   },
   "outputs": [],
   "source": [
    "-- Juxtapose is used to align the whole text,\n",
    "-- inserting whitespaces on small lines\n",
    "\n",
    "-- Used to insert new whitespace on string\n",
    "juxtapose' :: [Char] -> [Char]\n",
    "juxtapose' [] = []\n",
    "juxtapose' string@(first:rest)\n",
    "        -- insert ' ' if char is already ' '\n",
    "        | first == ' ' = \"  \" ++ juxtapose'(rest)\n",
    "        | otherwise = [first] ++ juxtapose'(rest)"
   ]
  },
  {
   "cell_type": "code",
   "execution_count": 12,
   "metadata": {
    "collapsed": false
   },
   "outputs": [
    {
     "data": {
      "text/plain": [
       "\"Abc  def  ghj\""
      ]
     },
     "metadata": {},
     "output_type": "display_data"
    }
   ],
   "source": [
    "juxtapose' \"Abc def ghj\""
   ]
  },
  {
   "cell_type": "code",
   "execution_count": 13,
   "metadata": {
    "collapsed": true
   },
   "outputs": [],
   "source": [
    "-- Used to insert new space on lines\n",
    "-- Kidding, it's used to call juxtapose'\n",
    "juxtapose :: [[Char]] -> [[Char]]\n",
    "juxtapose msg@(first_line:[]) = msg\n",
    "juxtapose msg@(first_line:second_line:rest)\n",
    "        -- If second line + extra spaces is still smaller than the first line\n",
    "        | length(findIndices(== ' ') second_line) + (length second_line) <= length first_line =\n",
    "          juxtapose([first_line] ++ [(juxtapose' second_line)] ++ rest)\n",
    "        -- Otherwise, repeat action for the second and third line\n",
    "        | otherwise = [first_line] ++ juxtapose([second_line] ++ rest)"
   ]
  },
  {
   "cell_type": "code",
   "execution_count": 15,
   "metadata": {
    "collapsed": false
   },
   "outputs": [
    {
     "data": {
      "text/plain": [
       "In the beginning God created the heavens\n",
       "and  the  earth.  Now  the  earth  was\n",
       "formless and empty, darkness was over\n",
       "the surface of the deep, and the Spirit\n",
       "of God was hovering over the waters."
      ]
     },
     "metadata": {},
     "output_type": "display_data"
    }
   ],
   "source": [
    "putStr(concat (juxtapose (reflow input)))"
   ]
  },
  {
   "cell_type": "code",
   "execution_count": 16,
   "metadata": {
    "collapsed": false
   },
   "outputs": [
    {
     "data": {
      "text/plain": [
       "In the beginning God created the heavens\n",
       "and the earth. Now the earth was\n",
       "formless and empty, darkness was over\n",
       "the surface of the deep, and the Spirit\n",
       "of God was hovering over the waters."
      ]
     },
     "metadata": {},
     "output_type": "display_data"
    }
   ],
   "source": [
    "putStr(concat (reflow input))"
   ]
  },
  {
   "cell_type": "code",
   "execution_count": 17,
   "metadata": {
    "collapsed": true
   },
   "outputs": [],
   "source": [
    "-- Wrap all of those functions\n",
    "prettify :: [Char] -> [Char]\n",
    "prettify [] = []\n",
    "prettify msg = concat (juxtapose (reflow msg))"
   ]
  },
  {
   "cell_type": "code",
   "execution_count": 18,
   "metadata": {
    "collapsed": false
   },
   "outputs": [
    {
     "data": {
      "text/plain": [
       "In the beginning God created the heavens\n",
       "and  the  earth.  Now  the  earth  was\n",
       "formless and empty, darkness was over\n",
       "the surface of the deep, and the Spirit\n",
       "of God was hovering over the waters."
      ]
     },
     "metadata": {},
     "output_type": "display_data"
    }
   ],
   "source": [
    "putStr(prettify input)"
   ]
  },
  {
   "cell_type": "code",
   "execution_count": null,
   "metadata": {
    "collapsed": true
   },
   "outputs": [],
   "source": []
  }
 ],
 "metadata": {
  "kernelspec": {
   "display_name": "Haskell",
   "language": "haskell",
   "name": "haskell"
  },
  "language_info": {
   "codemirror_mode": "ihaskell",
   "file_extension": ".hs",
   "name": "haskell",
   "version": "7.10.2"
  }
 },
 "nbformat": 4,
 "nbformat_minor": 0
}
